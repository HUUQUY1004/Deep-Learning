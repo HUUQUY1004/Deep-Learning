{
  "nbformat": 4,
  "nbformat_minor": 0,
  "metadata": {
    "colab": {
      "provenance": [],
      "authorship_tag": "ABX9TyNRokdGufPir04bEubVPBGY",
      "include_colab_link": true
    },
    "kernelspec": {
      "name": "python3",
      "display_name": "Python 3"
    },
    "language_info": {
      "name": "python"
    }
  },
  "cells": [
    {
      "cell_type": "markdown",
      "metadata": {
        "id": "view-in-github",
        "colab_type": "text"
      },
      "source": [
        "<a href=\"https://colab.research.google.com/github/HUUQUY1004/Deep-Learning/blob/main/fashion_mnist.ipynb\" target=\"_parent\"><img src=\"https://colab.research.google.com/assets/colab-badge.svg\" alt=\"Open In Colab\"/></a>"
      ]
    },
    {
      "cell_type": "code",
      "execution_count": null,
      "metadata": {
        "colab": {
          "base_uri": "https://localhost:8080/"
        },
        "id": "eNlF6tYhCDss",
        "outputId": "a97b153f-a815-435c-d9bf-5a64667d7ac9"
      },
      "outputs": [
        {
          "output_type": "stream",
          "name": "stdout",
          "text": [
            "Tensorflow: 2.15.0\n"
          ]
        }
      ],
      "source": [
        "import tensorflow as tf\n",
        "from tensorflow import keras\n",
        "from tensorflow.keras import layers\n",
        "print(f\"Tensorflow: {tf.__version__}\")\n",
        "import matplotlib.pyplot as plt\n",
        "import numpy as np\n",
        "import random"
      ]
    },
    {
      "cell_type": "code",
      "source": [
        "## Load data\n",
        "(X_train, y_train), (X_test, y_test)=keras.datasets.fashion_mnist.load_data()"
      ],
      "metadata": {
        "id": "Q6o5uxBDHARl",
        "colab": {
          "base_uri": "https://localhost:8080/"
        },
        "outputId": "a52a84ce-760a-47f5-8ba8-be832aa63d13"
      },
      "execution_count": null,
      "outputs": [
        {
          "output_type": "stream",
          "name": "stdout",
          "text": [
            "Downloading data from https://storage.googleapis.com/tensorflow/tf-keras-datasets/train-labels-idx1-ubyte.gz\n",
            "29515/29515 [==============================] - 0s 0us/step\n",
            "Downloading data from https://storage.googleapis.com/tensorflow/tf-keras-datasets/train-images-idx3-ubyte.gz\n",
            "26421880/26421880 [==============================] - 0s 0us/step\n",
            "Downloading data from https://storage.googleapis.com/tensorflow/tf-keras-datasets/t10k-labels-idx1-ubyte.gz\n",
            "5148/5148 [==============================] - 0s 0us/step\n",
            "Downloading data from https://storage.googleapis.com/tensorflow/tf-keras-datasets/t10k-images-idx3-ubyte.gz\n",
            "4422102/4422102 [==============================] - 0s 0us/step\n"
          ]
        }
      ]
    },
    {
      "cell_type": "code",
      "source": [
        "type(X_train) , type(y_train)"
      ],
      "metadata": {
        "colab": {
          "base_uri": "https://localhost:8080/"
        },
        "id": "KmswkK3vHeFC",
        "outputId": "8b4971a2-669a-4830-985a-6bbb0d0d224c"
      },
      "execution_count": null,
      "outputs": [
        {
          "output_type": "execute_result",
          "data": {
            "text/plain": [
              "(numpy.ndarray, numpy.ndarray)"
            ]
          },
          "metadata": {},
          "execution_count": 3
        }
      ]
    },
    {
      "cell_type": "code",
      "source": [
        "X_train.shape , y_train.shape"
      ],
      "metadata": {
        "colab": {
          "base_uri": "https://localhost:8080/"
        },
        "id": "mRmHikNzHm0j",
        "outputId": "61c0987f-ac20-4634-e5c7-3895a52b0525"
      },
      "execution_count": null,
      "outputs": [
        {
          "output_type": "execute_result",
          "data": {
            "text/plain": [
              "((60000, 28, 28), (60000,))"
            ]
          },
          "metadata": {},
          "execution_count": 4
        }
      ]
    },
    {
      "cell_type": "code",
      "source": [
        "X_train.dtype"
      ],
      "metadata": {
        "id": "rE1bG5d_H2NV",
        "outputId": "573c98b4-8543-43e9-fa06-828d10a675cc",
        "colab": {
          "base_uri": "https://localhost:8080/"
        }
      },
      "execution_count": null,
      "outputs": [
        {
          "output_type": "execute_result",
          "data": {
            "text/plain": [
              "dtype('uint8')"
            ]
          },
          "metadata": {},
          "execution_count": 5
        }
      ]
    },
    {
      "cell_type": "code",
      "source": [
        "y_train[0]"
      ],
      "metadata": {
        "colab": {
          "base_uri": "https://localhost:8080/"
        },
        "id": "qMe0HEjLL550",
        "outputId": "15a38f20-f5b4-44e6-aa6d-238306f8f4be"
      },
      "execution_count": null,
      "outputs": [
        {
          "output_type": "execute_result",
          "data": {
            "text/plain": [
              "9"
            ]
          },
          "metadata": {},
          "execution_count": 6
        }
      ]
    },
    {
      "cell_type": "code",
      "source": [
        "class_names = [\"T-shirt/top\", 'Trouser', 'Pullover', 'Dress', 'Coat', 'Sandal',\n",
        "               'Shirt', 'Sneaker', 'Bag', 'Ankle boot']\n",
        "\n",
        "class_nums = len(class_names)"
      ],
      "metadata": {
        "id": "-Y2u8CxdMzqU"
      },
      "execution_count": null,
      "outputs": []
    },
    {
      "cell_type": "code",
      "source": [
        "# class_names[y_train[1]]\n",
        "plt.imshow(X_train[0])"
      ],
      "metadata": {
        "colab": {
          "base_uri": "https://localhost:8080/",
          "height": 447
        },
        "id": "l39c5ndYDWsW",
        "outputId": "9b2c6121-e138-4344-eafd-1c8a0bf4ae55"
      },
      "execution_count": null,
      "outputs": [
        {
          "output_type": "execute_result",
          "data": {
            "text/plain": [
              "<matplotlib.image.AxesImage at 0x7b8ce25ddd80>"
            ]
          },
          "metadata": {},
          "execution_count": 8
        },
        {
          "output_type": "display_data",
          "data": {
            "text/plain": [
              "<Figure size 640x480 with 1 Axes>"
            ],
            "image/png": "[encoded data removed]"
          },
          "metadata": {}
        }
      ]
    },
    {
      "cell_type": "code",
      "source": [
        "def plot_data(x_data : np.ndarray, y_data : np.ndarray)-> None:\n",
        "  nrows, ncols = 2,4\n",
        "  fig, axes = plt.subplots(nrows, ncols , figsize = (8,4))\n",
        "\n",
        "  len_x = x_data.shape[0]\n",
        "  for idx in range(0, len_x):\n",
        "    ax = axes[idx // ncols, idx % ncols]\n",
        "\n",
        "    img_idx = random.randint(0, len_x)\n",
        "\n",
        "    ax.imshow(x_data[img_idx], cmap = 'gray')\n",
        "\n",
        "    # ẩn số tên trục tọa độ\n",
        "    ax.set(xticks = [], yticks = [])\n",
        "\n",
        "    true_lable_str = f\"True: {class_names[y_data[img_idx]]}\"\n",
        "    ax.set_xlabel(true_lable_str, color = \"green\", fontsize= 12)\n",
        "\n",
        "plot_data(X_train, y_train)"
      ],
      "metadata": {
        "id": "GBBg4lmGFQV6",
        "colab": {
          "base_uri": "https://localhost:8080/",
          "height": 643
        },
        "outputId": "b952fdf5-8512-4016-aba9-5fb91e10e5f8"
      },
      "execution_count": null,
      "outputs": [
        {
          "output_type": "error",
          "ename": "IndexError",
          "evalue": "index 2 is out of bounds for axis 0 with size 2",
          "traceback": [
            "\u001b[0;31m---------------------------------------------------------------------------\u001b[0m",
            "\u001b[0;31mIndexError\u001b[0m                                Traceback (most recent call last)",
            "\u001b[0;32m<ipython-input-11-e5b24ae81e94>\u001b[0m in \u001b[0;36m<cell line: 19>\u001b[0;34m()\u001b[0m\n\u001b[1;32m     17\u001b[0m     \u001b[0max\u001b[0m\u001b[0;34m.\u001b[0m\u001b[0mset_xlabel\u001b[0m\u001b[0;34m(\u001b[0m\u001b[0mtrue_lable_str\u001b[0m\u001b[0;34m,\u001b[0m \u001b[0mcolor\u001b[0m \u001b[0;34m=\u001b[0m \u001b[0;34m\"green\"\u001b[0m\u001b[0;34m,\u001b[0m \u001b[0mfontsize\u001b[0m\u001b[0;34m=\u001b[0m \u001b[0;36m12\u001b[0m\u001b[0;34m)\u001b[0m\u001b[0;34m\u001b[0m\u001b[0;34m\u001b[0m\u001b[0m\n\u001b[1;32m     18\u001b[0m \u001b[0;34m\u001b[0m\u001b[0m\n\u001b[0;32m---> 19\u001b[0;31m \u001b[0mplot_data\u001b[0m\u001b[0;34m(\u001b[0m\u001b[0mX_train\u001b[0m\u001b[0;34m,\u001b[0m \u001b[0my_train\u001b[0m\u001b[0;34m)\u001b[0m\u001b[0;34m\u001b[0m\u001b[0;34m\u001b[0m\u001b[0m\n\u001b[0m",
            "\u001b[0;32m<ipython-input-11-e5b24ae81e94>\u001b[0m in \u001b[0;36mplot_data\u001b[0;34m(x_data, y_data)\u001b[0m\n\u001b[1;32m      5\u001b[0m   \u001b[0mlen_x\u001b[0m \u001b[0;34m=\u001b[0m \u001b[0mx_data\u001b[0m\u001b[0;34m.\u001b[0m\u001b[0mshape\u001b[0m\u001b[0;34m[\u001b[0m\u001b[0;36m0\u001b[0m\u001b[0;34m]\u001b[0m\u001b[0;34m\u001b[0m\u001b[0;34m\u001b[0m\u001b[0m\n\u001b[1;32m      6\u001b[0m   \u001b[0;32mfor\u001b[0m \u001b[0midx\u001b[0m \u001b[0;32min\u001b[0m \u001b[0mrange\u001b[0m\u001b[0;34m(\u001b[0m\u001b[0;36m0\u001b[0m\u001b[0;34m,\u001b[0m \u001b[0mlen_x\u001b[0m\u001b[0;34m)\u001b[0m\u001b[0;34m:\u001b[0m\u001b[0;34m\u001b[0m\u001b[0;34m\u001b[0m\u001b[0m\n\u001b[0;32m----> 7\u001b[0;31m     \u001b[0max\u001b[0m \u001b[0;34m=\u001b[0m \u001b[0maxes\u001b[0m\u001b[0;34m[\u001b[0m\u001b[0midx\u001b[0m \u001b[0;34m//\u001b[0m \u001b[0mncols\u001b[0m\u001b[0;34m,\u001b[0m \u001b[0midx\u001b[0m \u001b[0;34m%\u001b[0m \u001b[0mncols\u001b[0m\u001b[0;34m]\u001b[0m\u001b[0;34m\u001b[0m\u001b[0;34m\u001b[0m\u001b[0m\n\u001b[0m\u001b[1;32m      8\u001b[0m \u001b[0;34m\u001b[0m\u001b[0m\n\u001b[1;32m      9\u001b[0m     \u001b[0mimg_idx\u001b[0m \u001b[0;34m=\u001b[0m \u001b[0mrandom\u001b[0m\u001b[0;34m.\u001b[0m\u001b[0mrandint\u001b[0m\u001b[0;34m(\u001b[0m\u001b[0;36m0\u001b[0m\u001b[0;34m,\u001b[0m \u001b[0mlen_x\u001b[0m\u001b[0;34m)\u001b[0m\u001b[0;34m\u001b[0m\u001b[0;34m\u001b[0m\u001b[0m\n",
            "\u001b[0;31mIndexError\u001b[0m: index 2 is out of bounds for axis 0 with size 2"
          ]
        },
        {
          "output_type": "display_data",
          "data": {
            "text/plain": [
              "<Figure size 800x400 with 8 Axes>"
            ],
            "image/png": "[encoded data removed]"
          },
          "metadata": {}
        }
      ]
    },
    {
      "cell_type": "code",
      "source": [
        "# Image pre-processing\n",
        "\n",
        "# khi chấm shape: sẽ có 4 values : (1,2,3,4):\n",
        "# + số bức ảnh\n",
        "# height, width , chanels: 1 khi ảnh là gray , 3 khi ảnh là ảnh màu\n",
        "\n",
        "# Convert unit8 from dataset to float32\n",
        "X_train = X_train.astype(np.float32) / 255\n",
        "X_test = X_test.astype(np.float32) /255\n",
        "X_test.dtype, X_test.shape\n",
        "\n",
        "\n"
      ],
      "metadata": {
        "id": "2IqP-brwMoyF",
        "colab": {
          "base_uri": "https://localhost:8080/"
        },
        "outputId": "7883d4ec-01f5-4be6-a8a0-a3229273a3ef"
      },
      "execution_count": null,
      "outputs": [
        {
          "output_type": "execute_result",
          "data": {
            "text/plain": [
              "(dtype('float32'), (10000, 28, 28))"
            ]
          },
          "metadata": {},
          "execution_count": 12
        }
      ]
    },
    {
      "cell_type": "code",
      "source": [
        "# Make sure images have shape (1000,28,28) -> (1000,28,28,1)\n",
        "X_train = np.expand_dims(X_train, axis=-1)\n",
        "X_test = np.expand_dims(X_test, axis=-1)"
      ],
      "metadata": {
        "id": "plkIXONCOIYp"
      },
      "execution_count": null,
      "outputs": []
    },
    {
      "cell_type": "code",
      "source": [
        "X_train.shape, X_test.shape"
      ],
      "metadata": {
        "colab": {
          "base_uri": "https://localhost:8080/"
        },
        "id": "iNTspMr6QST1",
        "outputId": "8af0ca4e-f214-466c-91f3-1a31469fb2ff"
      },
      "execution_count": null,
      "outputs": [
        {
          "output_type": "execute_result",
          "data": {
            "text/plain": [
              "((60000, 28, 28, 1), (10000, 28, 28, 1))"
            ]
          },
          "metadata": {},
          "execution_count": 14
        }
      ]
    },
    {
      "cell_type": "code",
      "source": [
        "# Convert class vector to binary class matrices: 1 => [0,1,0,0,0....]\n",
        "# 1         => aprarse_categorical_crossentropy\n",
        "# [0,1,0,0,0....] => categorical_crossentropy\n",
        "\n",
        "y_train_label=keras.utils.to_categorical(y_train , class_nums)\n",
        "y_test_label=keras.utils.to_categorical(y_test , class_nums)"
      ],
      "metadata": {
        "id": "n7xTUy3vR6Nm"
      },
      "execution_count": null,
      "outputs": []
    },
    {
      "cell_type": "code",
      "source": [
        "y_train[0], y_train_label[0]"
      ],
      "metadata": {
        "colab": {
          "base_uri": "https://localhost:8080/"
        },
        "id": "SI7Qm7QWTr8w",
        "outputId": "0e0df2a4-9a16-4bcb-8891-60bd4fb01758"
      },
      "execution_count": null,
      "outputs": [
        {
          "output_type": "execute_result",
          "data": {
            "text/plain": [
              "(9, array([0., 0., 0., 0., 0., 0., 0., 0., 0., 1.], dtype=float32))"
            ]
          },
          "metadata": {},
          "execution_count": 16
        }
      ]
    },
    {
      "cell_type": "code",
      "source": [
        "# input shape\n",
        "input_shape = [28,28,1]"
      ],
      "metadata": {
        "id": "K26ihFztUUxp"
      },
      "execution_count": null,
      "outputs": []
    },
    {
      "cell_type": "code",
      "source": [
        "from os import access\n",
        "# ANN\n",
        "\n",
        "model = keras.models.Sequential([\n",
        "    # chuyển thàng one-d-arr\n",
        "    layers.Flatten(input_shape=input_shape), # (28*28*1)\n",
        "    layers.Dense(512, activation='relu'),\n",
        "    layers.Dense(256, activation= 'relu'),\n",
        "    # output layer\n",
        "    layers.Dense(class_nums, activation = 'softmax')\n",
        "])\n",
        "model.summary()"
      ],
      "metadata": {
        "colab": {
          "base_uri": "https://localhost:8080/"
        },
        "id": "QqqEMLFwT5uE",
        "outputId": "7cb142b4-b45e-4a15-9037-807554003966"
      },
      "execution_count": null,
      "outputs": [
        {
          "output_type": "stream",
          "name": "stdout",
          "text": [
            "Model: \"sequential\"\n",
            "_________________________________________________________________\n",
            " Layer (type)                Output Shape              Param #   \n",
            "=================================================================\n",
            " flatten (Flatten)           (None, 784)               0         \n",
            "                                                                 \n",
            " dense (Dense)               (None, 512)               401920    \n",
            "                                                                 \n",
            " dense_1 (Dense)             (None, 256)               131328    \n",
            "                                                                 \n",
            " dense_2 (Dense)             (None, 10)                2570      \n",
            "                                                                 \n",
            "=================================================================\n",
            "Total params: 535818 (2.04 MB)\n",
            "Trainable params: 535818 (2.04 MB)\n",
            "Non-trainable params: 0 (0.00 Byte)\n",
            "_________________________________________________________________\n"
          ]
        }
      ]
    },
    {
      "cell_type": "code",
      "source": [
        "model.compile(optimizer='rmsprop',\n",
        "              loss='categorical_crossentropy',\n",
        "              metrics=['accuracy'])"
      ],
      "metadata": {
        "id": "OVwB7MPMAdAb"
      },
      "execution_count": null,
      "outputs": []
    },
    {
      "cell_type": "code",
      "source": [
        "epochs = 10\n",
        "batch_size  = 128\n",
        "history=model.fit(X_train, y_train_label,epochs= epochs, batch_size= batch_size, validation_split=0.1)"
      ],
      "metadata": {
        "colab": {
          "base_uri": "https://localhost:8080/"
        },
        "id": "mt2BDjorCQkX",
        "outputId": "766f46ea-84cd-4d44-ea04-16e1df12cecb"
      },
      "execution_count": null,
      "outputs": [
        {
          "output_type": "stream",
          "name": "stdout",
          "text": [
            "Epoch 1/10\n",
            "422/422 [==============================] - 7s 15ms/step - loss: 0.5605 - accuracy: 0.7972 - val_loss: 0.3914 - val_accuracy: 0.8568\n",
            "Epoch 2/10\n",
            "422/422 [==============================] - 5s 12ms/step - loss: 0.3843 - accuracy: 0.8574 - val_loss: 0.3491 - val_accuracy: 0.8717\n",
            "Epoch 3/10\n",
            "422/422 [==============================] - 6s 14ms/step - loss: 0.3381 - accuracy: 0.8731 - val_loss: 0.3521 - val_accuracy: 0.8735\n",
            "Epoch 4/10\n",
            "422/422 [==============================] - 6s 13ms/step - loss: 0.3112 - accuracy: 0.8845 - val_loss: 0.3370 - val_accuracy: 0.8823\n",
            "Epoch 5/10\n",
            "422/422 [==============================] - 5s 12ms/step - loss: 0.2894 - accuracy: 0.8907 - val_loss: 0.3182 - val_accuracy: 0.8835\n",
            "Epoch 6/10\n",
            "422/422 [==============================] - 6s 14ms/step - loss: 0.2730 - accuracy: 0.8978 - val_loss: 0.3217 - val_accuracy: 0.8843\n",
            "Epoch 7/10\n",
            "422/422 [==============================] - 5s 12ms/step - loss: 0.2610 - accuracy: 0.9025 - val_loss: 0.3087 - val_accuracy: 0.8878\n",
            "Epoch 8/10\n",
            "422/422 [==============================] - 6s 13ms/step - loss: 0.2500 - accuracy: 0.9062 - val_loss: 0.3190 - val_accuracy: 0.8970\n",
            "Epoch 9/10\n",
            "422/422 [==============================] - 5s 11ms/step - loss: 0.2395 - accuracy: 0.9104 - val_loss: 0.3185 - val_accuracy: 0.8858\n",
            "Epoch 10/10\n",
            "422/422 [==============================] - 5s 13ms/step - loss: 0.2298 - accuracy: 0.9125 - val_loss: 0.3445 - val_accuracy: 0.8803\n"
          ]
        }
      ]
    },
    {
      "cell_type": "code",
      "source": [
        "history_dict = history.history"
      ],
      "metadata": {
        "id": "Rn-3NTx_E8Ja"
      },
      "execution_count": null,
      "outputs": []
    },
    {
      "cell_type": "code",
      "source": [
        "history_dict.keys()\n"
      ],
      "metadata": {
        "colab": {
          "base_uri": "https://localhost:8080/"
        },
        "id": "w0OFIwRhFeaS",
        "outputId": "bdbb07b8-5e64-433f-91c4-a0a203b93545"
      },
      "execution_count": null,
      "outputs": [
        {
          "output_type": "execute_result",
          "data": {
            "text/plain": [
              "dict_keys(['loss', 'accuracy', 'val_loss', 'val_accuracy'])"
            ]
          },
          "metadata": {},
          "execution_count": 22
        }
      ]
    },
    {
      "cell_type": "code",
      "source": [
        "train_loss , val_loss = history_dict['loss'], history_dict['val_loss']\n",
        "train_acc , val_acc = history_dict['accuracy'], history_dict['val_accuracy']"
      ],
      "metadata": {
        "id": "BJF5W0bMFtP1"
      },
      "execution_count": null,
      "outputs": []
    },
    {
      "cell_type": "code",
      "source": [
        "fig, (ax1, ax2) = plt.subplots(1,2, figsize= (15,5))\n",
        "epoch_runs = [i + 1 for i in range(epochs)]\n",
        "ax1.plot(epoch_runs , train_loss, label = 'Train loss')\n",
        "ax1.plot(epoch_runs , val_loss, label = 'Validation loss', marker = 'o')\n",
        "ax1.set(title = 'Training vs Validation Loss', xlabel = 'Epochs', ylabel='Loss')\n",
        "\n",
        "ax2.plot(epoch_runs , train_acc, label = 'Train Accuracy')\n",
        "ax2.plot(epoch_runs , val_acc, label = 'Validation Accuracy', marker = 'o')\n",
        "ax2.set(title = 'Training vs Validation Loss', xlabel = 'Epochs', ylabel='Loss')\n",
        "plt.show()"
      ],
      "metadata": {
        "colab": {
          "base_uri": "https://localhost:8080/",
          "height": 487
        },
        "id": "pVJ47jAvHXgh",
        "outputId": "691fc127-bfbe-4159-c839-6f0542e62486"
      },
      "execution_count": null,
      "outputs": [
        {
          "output_type": "display_data",
          "data": {
            "text/plain": [
              "<Figure size 1500x500 with 2 Axes>"
            ],
            "image/png": "[encoded data removed]"
          },
          "metadata": {}
        }
      ]
    },
    {
      "cell_type": "markdown",
      "source": [
        "# Model Evaluation"
      ],
      "metadata": {
        "id": "LcGjoYqoWhXF"
      }
    },
    {
      "cell_type": "code",
      "source": [
        "score = model.evaluate(X_test, y_test_label)"
      ],
      "metadata": {
        "colab": {
          "base_uri": "https://localhost:8080/"
        },
        "id": "iRoWzcCQWfl6",
        "outputId": "b4668fa4-bb64-460f-e5a6-d24024c615b0"
      },
      "execution_count": null,
      "outputs": [
        {
          "output_type": "stream",
          "name": "stdout",
          "text": [
            "313/313 [==============================] - 1s 2ms/step - loss: 0.3711 - accuracy: 0.8804\n"
          ]
        }
      ]
    },
    {
      "cell_type": "code",
      "source": [
        "score"
      ],
      "metadata": {
        "colab": {
          "base_uri": "https://localhost:8080/"
        },
        "id": "Tn9m3-rmXh0P",
        "outputId": "aed55283-6d7e-4926-c13c-a6fa71a2bdbb"
      },
      "execution_count": null,
      "outputs": [
        {
          "output_type": "execute_result",
          "data": {
            "text/plain": [
              "[0.37109002470970154, 0.8804000020027161]"
            ]
          },
          "metadata": {},
          "execution_count": 33
        }
      ]
    },
    {
      "cell_type": "code",
      "source": [
        "print(f'Test loss {score[0]:.4f}')\n",
        "print(f'Test Accuracy {score[1]:.4f}')"
      ],
      "metadata": {
        "colab": {
          "base_uri": "https://localhost:8080/"
        },
        "id": "P6-MywBiXug4",
        "outputId": "9f0aad86-ac42-4d9b-dc32-474d990fdb38"
      },
      "execution_count": null,
      "outputs": [
        {
          "output_type": "stream",
          "name": "stdout",
          "text": [
            "Test loss 0.3711\n",
            "Test Accuracy 0.8804\n"
          ]
        }
      ]
    },
    {
      "cell_type": "markdown",
      "source": [
        "# **Prediction**"
      ],
      "metadata": {
        "id": "dHdm2pAPYILQ"
      }
    },
    {
      "cell_type": "code",
      "source": [
        "X_sample = X_test[:3]\n",
        "y_proba = model.predict(X_sample)"
      ],
      "metadata": {
        "colab": {
          "base_uri": "https://localhost:8080/"
        },
        "id": "kyIIGUtPYMxD",
        "outputId": "d7ceeb03-f6ba-4aad-a770-89bf8e4daf55"
      },
      "execution_count": null,
      "outputs": [
        {
          "output_type": "stream",
          "name": "stdout",
          "text": [
            "1/1 [==============================] - 0s 95ms/step\n"
          ]
        }
      ]
    },
    {
      "cell_type": "code",
      "source": [
        "y_proba.round(3)"
      ],
      "metadata": {
        "colab": {
          "base_uri": "https://localhost:8080/"
        },
        "id": "D6KAoT20Y4M6",
        "outputId": "e06f04c2-8580-4a2d-ff24-4f5945b37c3a"
      },
      "execution_count": null,
      "outputs": [
        {
          "output_type": "execute_result",
          "data": {
            "text/plain": [
              "array([[0., 0., 0., 0., 0., 0., 0., 0., 0., 1.],\n",
              "       [0., 0., 1., 0., 0., 0., 0., 0., 0., 0.],\n",
              "       [0., 1., 0., 0., 0., 0., 0., 0., 0., 0.]], dtype=float32)"
            ]
          },
          "metadata": {},
          "execution_count": 36
        }
      ]
    },
    {
      "cell_type": "code",
      "source": [
        "predictions = np.argmax(y_proba, axis=1)\n",
        "predictions"
      ],
      "metadata": {
        "colab": {
          "base_uri": "https://localhost:8080/"
        },
        "id": "UzyTvW8eaafp",
        "outputId": "6f5ea7dc-3e5f-4e8b-f4b0-5f0ffaedf969"
      },
      "execution_count": null,
      "outputs": [
        {
          "output_type": "execute_result",
          "data": {
            "text/plain": [
              "array([9, 2, 1])"
            ]
          },
          "metadata": {},
          "execution_count": 37
        }
      ]
    },
    {
      "cell_type": "code",
      "source": [
        "[class_names[pred] for pred in predictions]"
      ],
      "metadata": {
        "colab": {
          "base_uri": "https://localhost:8080/"
        },
        "id": "L8TIJpiTb_qc",
        "outputId": "d612bc3f-31dc-469d-ac22-a1821e1ea6a3"
      },
      "execution_count": null,
      "outputs": [
        {
          "output_type": "execute_result",
          "data": {
            "text/plain": [
              "['Ankle boot', 'Pullover', 'Trouser']"
            ]
          },
          "metadata": {},
          "execution_count": 38
        }
      ]
    },
    {
      "cell_type": "code",
      "source": [
        "pwd"
      ],
      "metadata": {
        "id": "Nwm-4NCLeycl",
        "outputId": "12216361-9ecf-4b78-92dc-a96d2f1a9164",
        "colab": {
          "base_uri": "https://localhost:8080/",
          "height": 36
        }
      },
      "execution_count": null,
      "outputs": [
        {
          "output_type": "execute_result",
          "data": {
            "text/plain": [
              "'/content'"
            ],
            "application/vnd.google.colaboratory.intrinsic+json": {
              "type": "string"
            }
          },
          "metadata": {},
          "execution_count": 1
        }
      ]
    }
  ]
}